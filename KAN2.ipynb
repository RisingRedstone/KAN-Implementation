{
 "cells": [
  {
   "cell_type": "code",
   "execution_count": 85,
   "id": "c454c6fa-de58-4678-bff7-af88a1572998",
   "metadata": {},
   "outputs": [],
   "source": [
    "import tensorflow as tf\n",
    "import numpy as np\n",
    "import matplotlib.pyplot as plt"
   ]
  },
  {
   "cell_type": "code",
   "execution_count": 86,
   "id": "60215eff-04da-4cbd-9c32-3af9bf8ed83e",
   "metadata": {},
   "outputs": [],
   "source": [
    "class KANLayer2(tf.Module):\n",
    "    def __init__(self, inpDim, outDim, GInterval, p, name = \"\", seed = 100):\n",
    "        super().__init__(name=name)\n",
    "        self.inpDim = tf.constant(inpDim)\n",
    "        self.outDim = tf.constant(outDim)\n",
    "        self.G = tf.constant(GInterval)\n",
    "        self.p = tf.constant(p)\n",
    "        self.seed = seed\n",
    "        stddev = tf.math.sqrt(2 / (inpDim + outDim))\n",
    "        self.W = tf.Variable(tf.random.normal([1, self.outDim], mean = 0.0, stddev = stddev, seed = self.seed), name = name+\"_W\")\n",
    "        self.Phi = tf.Variable(tf.random.normal([self.inpDim, self.outDim, self.G], \n",
    "                               mean = 0.0, stddev = stddev, seed = self.seed), name = self.name+\"_Phi\")\n",
    "        self.BSplineFunc = [self.BSpline0, self.BSpline1, self.BSpline2, self.BSpline3][self.p]\n",
    "\n",
    "    @tf.function\n",
    "    def dot_matmul(self, A, B):\n",
    "        A0 = tf.squeeze(tf.slice(A, [0, 0, 0], [self.inpDimN, self.inpDim, 1]), axis = 2)\n",
    "        B0 = tf.squeeze(tf.slice(B, [0, 0, 0], [self.inpDim, self.outDim, 1]), axis = 2)\n",
    "        Y = tf.matmul(A0, B0)\n",
    "        i = tf.constant(1)\n",
    "        while(i < self.G):\n",
    "            A0 = tf.squeeze(tf.slice(A, [0, 0, i], [self.inpDimN, self.inpDim, 1]), axis = 2)\n",
    "            B0 = tf.squeeze(tf.slice(B, [0, 0, i], [self.inpDim, self.outDim, 1]), axis = 2)\n",
    "            Y = Y + tf.matmul(A0, B0)\n",
    "            i+=1\n",
    "        return Y\n",
    "    \n",
    "    @tf.function\n",
    "    def BSpline0(self, T, Ti):\n",
    "        Gdelta = tf.cast(self.G-self.p, dtype = tf.float32)\n",
    "        Ginter = 1/Gdelta\n",
    "        temp1 = tf.cast(tf.where(((Ti <= T) & (T < (Ti + Ginter))), 1, 0), tf.float32)\n",
    "        return temp1\n",
    "\n",
    "    @tf.function\n",
    "    def BSpline1(self, T, Ti):\n",
    "        Gdelta = tf.cast(self.G-self.p, dtype = tf.float32)\n",
    "        Ginter = 1/Gdelta\n",
    "        temp0 = 1 * Ginter\n",
    "        diff0 = (T - Ti) / temp0\n",
    "        diff1 = (Ti + temp0 + Ginter - T)/temp0\n",
    "        temp2 = ( diff0 * self.BSpline0(T, Ti) ) + ( diff1 * self.BSpline0(T, Ti+Ginter) )\n",
    "        return temp2\n",
    "\n",
    "    @tf.function\n",
    "    def BSpline2(self, T, Ti):\n",
    "        Gdelta = tf.cast(self.G-self.p, dtype = tf.float32)\n",
    "        Ginter = 1/Gdelta\n",
    "        temp0 = 2 * Ginter\n",
    "        diff0 = (T - Ti) / temp0\n",
    "        diff1 = (Ti + temp0 + Ginter - T)/temp0\n",
    "        temp2 = ( diff0 * self.BSpline1(T, Ti) ) + ( diff1 * self.BSpline1(T, Ti+Ginter) )\n",
    "        return temp2\n",
    "        \n",
    "    @tf.function\n",
    "    def BSpline3(self, T, Ti):\n",
    "        Gdelta = tf.cast(self.G-self.p, dtype = tf.float32)\n",
    "        Ginter = 1/Gdelta\n",
    "        temp0 = 3 * Ginter\n",
    "        diff0 = (T - Ti) / temp0\n",
    "        diff1 = (Ti + temp0 + Ginter - T)/temp0\n",
    "        temp2 = ( diff0 * self.BSpline2(T, Ti) ) + ( diff1 * self.BSpline2(T, Ti+Ginter) )\n",
    "        return temp2\n",
    "    \n",
    "    @tf.function(input_signature=(tf.TensorSpec(shape=[None, None], dtype=tf.float32),))\n",
    "    def Spline(self, X):\n",
    "        Gdelta = tf.cast(self.G-self.p, dtype = tf.float32)\n",
    "        Ginter = 1/Gdelta\n",
    "\n",
    "        I = tf.floor(X * Gdelta)\n",
    "        I = tf.maximum(I, 0)\n",
    "        I = tf.minimum(I, Gdelta-1)\n",
    "        #I = I + self.p\n",
    "        Ti = I / Gdelta\n",
    "        I = tf.cast(I, tf.int32) + self.p\n",
    "\n",
    "        Res = tf.zeros(tf.concat([[self.inpDimN], [self.inpDim], [self.G]], axis = 0), dtype=tf.float32)\n",
    "        Ti = Ti + Ginter\n",
    "        i = tf.constant(0)\n",
    "        J = tf.expand_dims(tf.repeat(tf.expand_dims(tf.range(self.inpDimN), axis = 1), self.inpDim, axis = 1), axis = 2)\n",
    "        K = tf.expand_dims(tf.repeat(tf.expand_dims(tf.range(self.inpDim), axis = 0), self.inpDimN, axis = 0), axis = 2)\n",
    "        I = tf.expand_dims(I, axis = 2)\n",
    "        while(i <= self.p):\n",
    "            Ti = Ti - Ginter\n",
    "            Y = self.BSplineFunc(X, Ti)\n",
    "            temp0 = tf.concat([J, K, (I-i)], axis = 2)\n",
    "            Res = tf.tensor_scatter_nd_update(Res, temp0, Y)\n",
    "            i+=1\n",
    "        Ans = self.dot_matmul(Res, self.Phi)\n",
    "        return Ans\n",
    "\n",
    "    @tf.function(input_signature=(tf.TensorSpec(shape=[None, None], dtype=tf.float32),))\n",
    "    def __call__(self, X):\n",
    "        self.inpDimN = tf.gather_nd(tf.shape(X), [0])\n",
    "        spline = self.Spline(X)\n",
    "        silu = X / (1 + tf.exp(-X))\n",
    "        silu_exp = tf.matmul(silu, tf.ones([self.inpDim, self.outDim], dtype = tf.float32))\n",
    "        W = tf.matmul(tf.ones([self.inpDimN, 1], dtype = tf.float32), self.W)\n",
    "        return W * (silu_exp + spline)\n",
    "        \n",
    "        "
   ]
  },
  {
   "cell_type": "code",
   "execution_count": 128,
   "id": "883195d2-0b39-4444-bb3c-c11d3f5b8f68",
   "metadata": {},
   "outputs": [],
   "source": [
    "kan0 = KANLayer2(764, 20, GInterval = 2, p = 1, name = \"layer0\", seed = 100)"
   ]
  },
  {
   "cell_type": "code",
   "execution_count": 131,
   "id": "c5ce2942-f031-48e5-ba71-5958ff0b55e8",
   "metadata": {},
   "outputs": [],
   "source": [
    "N = 10000\n",
    "X = tf.random.uniform([N, 764], minval = -0.01, maxval = 1.02)\n",
    "X = tf.sort(X, axis = 0)\n",
    "\n",
    "time0 = tf.timestamp()\n",
    "with tf.GradientTape() as tape:\n",
    "    Y = kan0(X)\n",
    "timedelt = tf.timestamp() - time0\n",
    "\n",
    "dY_dK = tape.gradient(Y, kan0.trainable_variables)"
   ]
  },
  {
   "cell_type": "code",
   "execution_count": 132,
   "id": "4bbaf7c0-75f6-4f4f-a8a0-3e7c00335313",
   "metadata": {},
   "outputs": [
    {
     "name": "stdout",
     "output_type": "stream",
     "text": [
      "tf.Tensor(0.8690340518951416, shape=(), dtype=float64)\n"
     ]
    }
   ],
   "source": [
    "print(timedelt)"
   ]
  },
  {
   "cell_type": "code",
   "execution_count": null,
   "id": "140f3dcd-54bb-4d30-a2e4-3bd7be056d26",
   "metadata": {},
   "outputs": [],
   "source": []
  }
 ],
 "metadata": {
  "kernelspec": {
   "display_name": "Python 3 (ipykernel)",
   "language": "python",
   "name": "python3"
  },
  "language_info": {
   "codemirror_mode": {
    "name": "ipython",
    "version": 3
   },
   "file_extension": ".py",
   "mimetype": "text/x-python",
   "name": "python",
   "nbconvert_exporter": "python",
   "pygments_lexer": "ipython3",
   "version": "3.10.9"
  }
 },
 "nbformat": 4,
 "nbformat_minor": 5
}
